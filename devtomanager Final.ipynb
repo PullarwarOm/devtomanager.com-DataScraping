{
 "cells": [
  {
   "cell_type": "code",
   "execution_count": 1,
   "id": "13139139",
   "metadata": {},
   "outputs": [],
   "source": [
    "import pandas as pd\n",
    "from bs4 import BeautifulSoup\n",
    "from tqdm.notebook import tqdm\n",
    "from selenium import webdriver\n",
    "import requests\n",
    "import os"
   ]
  },
  {
   "cell_type": "code",
   "execution_count": 2,
   "id": "b425a03e",
   "metadata": {},
   "outputs": [],
   "source": [
    "os.chdir('D:\\\\Scripting')"
   ]
  },
  {
   "cell_type": "code",
   "execution_count": 3,
   "id": "7ea488e7",
   "metadata": {},
   "outputs": [],
   "source": [
    "url = 'https://devtomanager.com/interviews/'"
   ]
  },
  {
   "cell_type": "code",
   "execution_count": 4,
   "id": "995a1224",
   "metadata": {},
   "outputs": [],
   "source": [
    "browser = webdriver.Firefox()"
   ]
  },
  {
   "cell_type": "code",
   "execution_count": 5,
   "id": "59b5149a",
   "metadata": {},
   "outputs": [],
   "source": [
    "browser.get(url)"
   ]
  },
  {
   "cell_type": "code",
   "execution_count": 6,
   "id": "b30c20ad",
   "metadata": {},
   "outputs": [],
   "source": [
    "html = browser.page_source"
   ]
  },
  {
   "cell_type": "code",
   "execution_count": 7,
   "id": "6cc3f3bf",
   "metadata": {},
   "outputs": [],
   "source": [
    "soup = BeautifulSoup(html, 'html.parser')"
   ]
  },
  {
   "cell_type": "code",
   "execution_count": 8,
   "id": "dce34b11",
   "metadata": {},
   "outputs": [
    {
     "data": {
      "text/plain": [
       "['Aviv Ben-Yosef', ' Tech Executive Consultant']"
      ]
     },
     "execution_count": 8,
     "metadata": {},
     "output_type": "execute_result"
    }
   ],
   "source": [
    "soup.find_all('h5', class_ = 'card-title')[0].text.strip().split(',')"
   ]
  },
  {
   "cell_type": "code",
   "execution_count": 9,
   "id": "03d71f28",
   "metadata": {},
   "outputs": [
    {
     "data": {
      "text/plain": [
       "['Aviv Ben-Yosef', 'Anand Safi', 'Shawn Axsom', 'Kevin Doyle', 'Arnab Sen']"
      ]
     },
     "execution_count": 9,
     "metadata": {},
     "output_type": "execute_result"
    }
   ],
   "source": [
    "### Fetching employee name\n",
    "employee_name = [i.text.strip().split(',')[0] for i in soup.find_all('h5', class_ = 'card-title')]\n",
    "employee_name"
   ]
  },
  {
   "cell_type": "code",
   "execution_count": 10,
   "id": "8ffba3dc",
   "metadata": {},
   "outputs": [
    {
     "data": {
      "text/plain": [
       "['Tech Executive Consultant',\n",
       " 'Engineering Manager',\n",
       " 'Senior Engineering Manager',\n",
       " 'CTO',\n",
       " 'Technical Delivery Manager']"
      ]
     },
     "execution_count": 10,
     "metadata": {},
     "output_type": "execute_result"
    }
   ],
   "source": [
    "### Fetching Job Position\n",
    "job_pos = [i.text.strip().split(',')[1].split(' at ')[0].strip() for i in soup.find_all('h5', class_ = 'card-title')]\n",
    "job_pos"
   ]
  },
  {
   "cell_type": "code",
   "execution_count": 11,
   "id": "30ae4001",
   "metadata": {},
   "outputs": [
    {
     "data": {
      "text/plain": [
       "[nan, 'Mark43', 'Docker', 'patientMpower', 'AKQA']"
      ]
     },
     "execution_count": 11,
     "metadata": {},
     "output_type": "execute_result"
    }
   ],
   "source": [
    "### Fetching working at. if working is not present then substituted it with np.nan\n",
    "import numpy as np\n",
    "working_at = [i.text.strip().split(',')[1].split(' at ')[-1].strip() if ' at ' in i.text.strip() else np.nan for i in soup.find_all('h5', class_ = 'card-title')]\n",
    "working_at"
   ]
  },
  {
   "cell_type": "markdown",
   "id": "79aa104e",
   "metadata": {},
   "source": [
    "- As employee no 1 working is not mentioned so substituded it with np.nan\n",
    "- So it will be blank space in the working of first employee"
   ]
  },
  {
   "cell_type": "code",
   "execution_count": 12,
   "id": "ca7a1e0f",
   "metadata": {},
   "outputs": [
    {
     "data": {
      "text/plain": [
       "['“I want to set up managers to succeed, no matter how much background they’ve already got.”',\n",
       " '“I very well understand where my interests lie, which is being an enabler first and then a creator rather than being a creator/ maker 100%.”',\n",
       " '“Your focus (and challenges) grows from your direct reports, to teams, to departments, executives, and then external customers and partnerships.”',\n",
       " '“If I can provide enough direction to allow people to focus on the jobs they’ll do better than I ever could, everybody wins.”',\n",
       " '“The switch to management can be highly rewarding and provide a level of independence, authority, and interactivity that a pure software engineering role may not offer.”']"
      ]
     },
     "execution_count": 12,
     "metadata": {},
     "output_type": "execute_result"
    }
   ],
   "source": [
    "### Extracting interview quote\n",
    "Interview_quote =[i.text.strip() for index,i in enumerate(soup.select('p.card-text')) if index%2==0]\n",
    "Interview_quote"
   ]
  },
  {
   "cell_type": "code",
   "execution_count": 13,
   "id": "e57b82dd",
   "metadata": {},
   "outputs": [
    {
     "data": {
      "text/plain": [
       "['August 16, 2021',\n",
       " 'July 19, 2021',\n",
       " 'July 05, 2021',\n",
       " 'June 21, 2021',\n",
       " 'May 10, 2021']"
      ]
     },
     "execution_count": 13,
     "metadata": {},
     "output_type": "execute_result"
    }
   ],
   "source": [
    "Date = [t for index,t in enumerate([i.text.split('\\n')[1].strip() for i in soup.find_all('p', class_ = 'card-text')]) if index%2==1]\n",
    "Date"
   ]
  },
  {
   "cell_type": "code",
   "execution_count": 14,
   "id": "d69f3431",
   "metadata": {},
   "outputs": [
    {
     "data": {
      "text/plain": [
       "[['#coaching', '#consulting'],\n",
       " ['#coaching', '#frontend', '#full-stack', '#public-safety'],\n",
       " ['#backend', '#coaching', '#information-systems', '#web'],\n",
       " ['#full-stack', '#health-tech'],\n",
       " ['#consulting', '#digital-marketing', '#e-commerce', '#product']]"
      ]
     },
     "execution_count": 14,
     "metadata": {},
     "output_type": "execute_result"
    }
   ],
   "source": [
    "Tags = [t for index,t in enumerate([[g.text.strip() for g in t] for t in [i.select('a.text-reset') for i in soup.select('p.card-text')]]) if index%2==1]\n",
    "Tags"
   ]
  },
  {
   "cell_type": "code",
   "execution_count": 15,
   "id": "53de94e0",
   "metadata": {},
   "outputs": [],
   "source": [
    "df = pd.DataFrame({'Employee Name':employee_name, 'Job Role': job_pos, 'Working At': working_at, 'Quote': Interview_quote, 'Date': Date, 'Tags': Tags})"
   ]
  },
  {
   "cell_type": "code",
   "execution_count": 16,
   "id": "cc257081",
   "metadata": {},
   "outputs": [],
   "source": [
    "def dovtomanager(soup):\n",
    "    employee_name = [i.text.strip().split(',')[0] for i in soup.find_all('h5', class_ = 'card-title')]\n",
    "    job_pos = [i.text.strip().split(',')[1].split(' at ')[0].strip() for i in soup.find_all('h5', class_ = 'card-title')]\n",
    "    working_at = [i.text.strip().split(',')[1].split(' at ')[-1].strip() if ' at ' in i.text.strip() else np.nan for i in soup.find_all('h5', class_ = 'card-title')]\n",
    "    Interview_quote =[i.text.strip() for index,i in enumerate(soup.select('p.card-text')) if index%2==0]\n",
    "    Date = [t for index,t in enumerate([i.text.split('\\n')[1].strip() for i in soup.find_all('p', class_ = 'card-text')]) if index%2==1]\n",
    "    Tags = [t for index,t in enumerate([[g.text.strip() for g in t] for t in [i.select('a.text-reset') for i in soup.select('p.card-text')]]) if index%2==1]\n",
    "    df = pd.DataFrame({'Employee Name':employee_name, 'Job Role': job_pos, 'Working At': working_at, 'Quote': Interview_quote, 'Date': Date, 'Tags': Tags})\n",
    "    df['Date'] = pd.to_datetime(df['Date'])\n",
    "    return(df)"
   ]
  },
  {
   "cell_type": "code",
   "execution_count": 17,
   "id": "02642664",
   "metadata": {},
   "outputs": [],
   "source": [
    "stud = 'https://devtomanager.com/interviews/page/{}/'"
   ]
  },
  {
   "cell_type": "code",
   "execution_count": 18,
   "id": "c29a9f3e",
   "metadata": {},
   "outputs": [],
   "source": [
    "from tqdm.notebook import tqdm\n",
    "from time import sleep"
   ]
  },
  {
   "cell_type": "code",
   "execution_count": 19,
   "id": "e8014302",
   "metadata": {},
   "outputs": [
    {
     "data": {
      "application/vnd.jupyter.widget-view+json": {
       "model_id": "506cdd01135c4a69908da5ecdd7e1461",
       "version_major": 2,
       "version_minor": 0
      },
      "text/plain": [
       "  0%|          | 0/5 [00:00<?, ?it/s]"
      ]
     },
     "metadata": {},
     "output_type": "display_data"
    }
   ],
   "source": [
    "tables = []\n",
    "for i in tqdm(range(1, 6)):\n",
    "    url_pages = stud.format(i)\n",
    "    browser.get(url_pages)\n",
    "    sleep(5)\n",
    "    html = browser.page_source\n",
    "    soup2 = BeautifulSoup(html, 'html.parser')\n",
    "    tables.append(dovtomanager(soup2))"
   ]
  },
  {
   "cell_type": "code",
   "execution_count": 20,
   "id": "5f0489e9",
   "metadata": {},
   "outputs": [
    {
     "data": {
      "text/html": [
       "<div>\n",
       "<style scoped>\n",
       "    .dataframe tbody tr th:only-of-type {\n",
       "        vertical-align: middle;\n",
       "    }\n",
       "\n",
       "    .dataframe tbody tr th {\n",
       "        vertical-align: top;\n",
       "    }\n",
       "\n",
       "    .dataframe thead th {\n",
       "        text-align: right;\n",
       "    }\n",
       "</style>\n",
       "<table border=\"1\" class=\"dataframe\">\n",
       "  <thead>\n",
       "    <tr style=\"text-align: right;\">\n",
       "      <th></th>\n",
       "      <th>Employee Name</th>\n",
       "      <th>Job Role</th>\n",
       "      <th>Working At</th>\n",
       "      <th>Quote</th>\n",
       "      <th>Date</th>\n",
       "      <th>Tags</th>\n",
       "    </tr>\n",
       "  </thead>\n",
       "  <tbody>\n",
       "    <tr>\n",
       "      <th>0</th>\n",
       "      <td>Aviv Ben-Yosef</td>\n",
       "      <td>Tech Executive Consultant</td>\n",
       "      <td>NaN</td>\n",
       "      <td>“I want to set up managers to succeed, no matt...</td>\n",
       "      <td>2021-08-16</td>\n",
       "      <td>[#coaching, #consulting]</td>\n",
       "    </tr>\n",
       "    <tr>\n",
       "      <th>1</th>\n",
       "      <td>Anand Safi</td>\n",
       "      <td>Engineering Manager</td>\n",
       "      <td>Mark43</td>\n",
       "      <td>“I very well understand where my interests lie...</td>\n",
       "      <td>2021-07-19</td>\n",
       "      <td>[#coaching, #frontend, #full-stack, #public-sa...</td>\n",
       "    </tr>\n",
       "    <tr>\n",
       "      <th>2</th>\n",
       "      <td>Shawn Axsom</td>\n",
       "      <td>Senior Engineering Manager</td>\n",
       "      <td>Docker</td>\n",
       "      <td>“Your focus (and challenges) grows from your d...</td>\n",
       "      <td>2021-07-05</td>\n",
       "      <td>[#backend, #coaching, #information-systems, #web]</td>\n",
       "    </tr>\n",
       "    <tr>\n",
       "      <th>3</th>\n",
       "      <td>Kevin Doyle</td>\n",
       "      <td>CTO</td>\n",
       "      <td>patientMpower</td>\n",
       "      <td>“If I can provide enough direction to allow pe...</td>\n",
       "      <td>2021-06-21</td>\n",
       "      <td>[#full-stack, #health-tech]</td>\n",
       "    </tr>\n",
       "    <tr>\n",
       "      <th>4</th>\n",
       "      <td>Arnab Sen</td>\n",
       "      <td>Technical Delivery Manager</td>\n",
       "      <td>AKQA</td>\n",
       "      <td>“The switch to management can be highly reward...</td>\n",
       "      <td>2021-05-10</td>\n",
       "      <td>[#consulting, #digital-marketing, #e-commerce,...</td>\n",
       "    </tr>\n",
       "    <tr>\n",
       "      <th>5</th>\n",
       "      <td>Nicholas Cobb</td>\n",
       "      <td>Senior Manager of Software Engineering</td>\n",
       "      <td>Aurora Innovation</td>\n",
       "      <td>“Realizing that life as a manager will have it...</td>\n",
       "      <td>2021-04-26</td>\n",
       "      <td>[#autonomous-driving, #devops, #ios, #self-tau...</td>\n",
       "    </tr>\n",
       "    <tr>\n",
       "      <th>6</th>\n",
       "      <td>Christoph Eicke</td>\n",
       "      <td>Team Lead</td>\n",
       "      <td>Xing GmbH</td>\n",
       "      <td>“Sometimes it's better not to know the details...</td>\n",
       "      <td>2021-04-12</td>\n",
       "      <td>[#full-stack, #linux, #self-taught, #web]</td>\n",
       "    </tr>\n",
       "    <tr>\n",
       "      <th>7</th>\n",
       "      <td>Sam Phillips</td>\n",
       "      <td>Co-founder &amp; CTO</td>\n",
       "      <td>Residently</td>\n",
       "      <td>“I think leadership and management are roles t...</td>\n",
       "      <td>2021-03-29</td>\n",
       "      <td>[#coaching, #devops, #self-taught, #startup, #...</td>\n",
       "    </tr>\n",
       "    <tr>\n",
       "      <th>8</th>\n",
       "      <td>Dan Lines</td>\n",
       "      <td>Co-founder &amp; COO</td>\n",
       "      <td>LinearB</td>\n",
       "      <td>“Some sound advice I received is that if your ...</td>\n",
       "      <td>2021-03-15</td>\n",
       "      <td>[#cybersecurity, #entrepreneurship, #startup]</td>\n",
       "    </tr>\n",
       "    <tr>\n",
       "      <th>9</th>\n",
       "      <td>Duncan Skelton</td>\n",
       "      <td>Executive Coach</td>\n",
       "      <td>Duncan Skelton Coaching</td>\n",
       "      <td>“If you get the job, or are new to the role, t...</td>\n",
       "      <td>2021-03-01</td>\n",
       "      <td>[#coaching, #enterprise, #hardware, #systems-p...</td>\n",
       "    </tr>\n",
       "    <tr>\n",
       "      <th>10</th>\n",
       "      <td>James Bedford</td>\n",
       "      <td>Engineering Manager</td>\n",
       "      <td>Attest</td>\n",
       "      <td>“So many wait to be given permission to lead, ...</td>\n",
       "      <td>2021-02-15</td>\n",
       "      <td>[#consumer-research, #fintech, #frontend, #web]</td>\n",
       "    </tr>\n",
       "    <tr>\n",
       "      <th>11</th>\n",
       "      <td>Monica Lent</td>\n",
       "      <td>Founder</td>\n",
       "      <td>Blogging for Devs</td>\n",
       "      <td>“You have to have the big picture in mind. And...</td>\n",
       "      <td>2021-02-01</td>\n",
       "      <td>[#fintech, #frontend, #self-taught]</td>\n",
       "    </tr>\n",
       "    <tr>\n",
       "      <th>12</th>\n",
       "      <td>Andrew Heffernan</td>\n",
       "      <td>Director of Engineering</td>\n",
       "      <td>Validity Inc</td>\n",
       "      <td>“I was definitely drinking from the firehose, ...</td>\n",
       "      <td>2021-01-18</td>\n",
       "      <td>[#cloud, #self-taught, #web]</td>\n",
       "    </tr>\n",
       "    <tr>\n",
       "      <th>13</th>\n",
       "      <td>Abhishek Karmakar</td>\n",
       "      <td>Senior Engineering Manager</td>\n",
       "      <td>Target Corporation</td>\n",
       "      <td>“Understanding people, their personalities, le...</td>\n",
       "      <td>2020-11-30</td>\n",
       "      <td>[#android, #cloud, #distributed-systems, #mobile]</td>\n",
       "    </tr>\n",
       "    <tr>\n",
       "      <th>14</th>\n",
       "      <td>Greg Thomas</td>\n",
       "      <td>Founder</td>\n",
       "      <td>BetaRover Inc</td>\n",
       "      <td>“I’ve said a few times to the team that they a...</td>\n",
       "      <td>2020-11-16</td>\n",
       "      <td>[#cloud, #enterprise, #infrastructure, #self-t...</td>\n",
       "    </tr>\n",
       "    <tr>\n",
       "      <th>15</th>\n",
       "      <td>Siddharth Rao</td>\n",
       "      <td>Staff Software Engineer &amp; Tech Lead</td>\n",
       "      <td>Twitter</td>\n",
       "      <td>“It is quite important that every engineer set...</td>\n",
       "      <td>2020-11-02</td>\n",
       "      <td>[#adtech, #mentorship]</td>\n",
       "    </tr>\n",
       "    <tr>\n",
       "      <th>16</th>\n",
       "      <td>Marc Littlemore</td>\n",
       "      <td>Team Lead</td>\n",
       "      <td>BBC</td>\n",
       "      <td>“You have to realise that your value comes fro...</td>\n",
       "      <td>2020-10-19</td>\n",
       "      <td>[#game-development, #remote, #web]</td>\n",
       "    </tr>\n",
       "    <tr>\n",
       "      <th>17</th>\n",
       "      <td>Senthil Arivudainambi</td>\n",
       "      <td>VP of Engineering and Product</td>\n",
       "      <td>Walker &amp; Company</td>\n",
       "      <td>“What made you successful in your current role...</td>\n",
       "      <td>2020-10-05</td>\n",
       "      <td>[#distributed-teams, #health-tech]</td>\n",
       "    </tr>\n",
       "    <tr>\n",
       "      <th>18</th>\n",
       "      <td>Karthik Kotha</td>\n",
       "      <td>Engineering Manager</td>\n",
       "      <td>Kroger</td>\n",
       "      <td>“I have learned to track my impact in other wa...</td>\n",
       "      <td>2020-09-21</td>\n",
       "      <td>[#e-commerce, #frontend, #startup]</td>\n",
       "    </tr>\n",
       "    <tr>\n",
       "      <th>19</th>\n",
       "      <td>Markus Thurner</td>\n",
       "      <td>Engineering Lead</td>\n",
       "      <td>Cimpress</td>\n",
       "      <td>“The transition to becoming an engineering lea...</td>\n",
       "      <td>2020-09-07</td>\n",
       "      <td>[#data-platform, #distributed-teams, #media]</td>\n",
       "    </tr>\n",
       "    <tr>\n",
       "      <th>20</th>\n",
       "      <td>Dhimil Gosalia</td>\n",
       "      <td>Director of Engineering</td>\n",
       "      <td>BrowserStack</td>\n",
       "      <td>“What I enjoy the most is solving problems. I ...</td>\n",
       "      <td>2020-08-24</td>\n",
       "      <td>[#infrastructure, #mobile, #network-engineerin...</td>\n",
       "    </tr>\n",
       "    <tr>\n",
       "      <th>21</th>\n",
       "      <td>Daniel Millington</td>\n",
       "      <td>Engineering Manager</td>\n",
       "      <td>Samsara</td>\n",
       "      <td>“When I’m able to see engineers on my teams ta...</td>\n",
       "      <td>2020-08-10</td>\n",
       "      <td>[#embedded-systems, #infrastructure, #internet...</td>\n",
       "    </tr>\n",
       "    <tr>\n",
       "      <th>22</th>\n",
       "      <td>Dhruv Agarwal</td>\n",
       "      <td>Engineering Manager</td>\n",
       "      <td>Shuttl</td>\n",
       "      <td>“Always think about the larger picture and not...</td>\n",
       "      <td>2020-07-27</td>\n",
       "      <td>[#product, #web]</td>\n",
       "    </tr>\n",
       "    <tr>\n",
       "      <th>23</th>\n",
       "      <td>Swaathi Kakarla</td>\n",
       "      <td>Co-founder &amp; CTO</td>\n",
       "      <td>Skcript</td>\n",
       "      <td>“People management is not like giving instruct...</td>\n",
       "      <td>2020-07-13</td>\n",
       "      <td>[#elixir, #product, #ruby-on-rails, #web]</td>\n",
       "    </tr>\n",
       "    <tr>\n",
       "      <th>24</th>\n",
       "      <td>Mark Shropshire</td>\n",
       "      <td>Senior Director of Development</td>\n",
       "      <td>Mediacurrent</td>\n",
       "      <td>“You can lead in your current role. No need to...</td>\n",
       "      <td>2020-06-29</td>\n",
       "      <td>[#mentorship, #open-source]</td>\n",
       "    </tr>\n",
       "  </tbody>\n",
       "</table>\n",
       "</div>"
      ],
      "text/plain": [
       "            Employee Name                                Job Role  \\\n",
       "0          Aviv Ben-Yosef               Tech Executive Consultant   \n",
       "1              Anand Safi                     Engineering Manager   \n",
       "2             Shawn Axsom              Senior Engineering Manager   \n",
       "3             Kevin Doyle                                     CTO   \n",
       "4               Arnab Sen              Technical Delivery Manager   \n",
       "5           Nicholas Cobb  Senior Manager of Software Engineering   \n",
       "6         Christoph Eicke                               Team Lead   \n",
       "7            Sam Phillips                        Co-founder & CTO   \n",
       "8               Dan Lines                        Co-founder & COO   \n",
       "9          Duncan Skelton                         Executive Coach   \n",
       "10          James Bedford                     Engineering Manager   \n",
       "11            Monica Lent                                 Founder   \n",
       "12       Andrew Heffernan                 Director of Engineering   \n",
       "13      Abhishek Karmakar              Senior Engineering Manager   \n",
       "14            Greg Thomas                                 Founder   \n",
       "15          Siddharth Rao     Staff Software Engineer & Tech Lead   \n",
       "16        Marc Littlemore                               Team Lead   \n",
       "17  Senthil Arivudainambi           VP of Engineering and Product   \n",
       "18          Karthik Kotha                     Engineering Manager   \n",
       "19         Markus Thurner                        Engineering Lead   \n",
       "20         Dhimil Gosalia                 Director of Engineering   \n",
       "21      Daniel Millington                     Engineering Manager   \n",
       "22          Dhruv Agarwal                     Engineering Manager   \n",
       "23        Swaathi Kakarla                        Co-founder & CTO   \n",
       "24        Mark Shropshire          Senior Director of Development   \n",
       "\n",
       "                 Working At  \\\n",
       "0                       NaN   \n",
       "1                    Mark43   \n",
       "2                    Docker   \n",
       "3             patientMpower   \n",
       "4                      AKQA   \n",
       "5         Aurora Innovation   \n",
       "6                 Xing GmbH   \n",
       "7                Residently   \n",
       "8                   LinearB   \n",
       "9   Duncan Skelton Coaching   \n",
       "10                   Attest   \n",
       "11        Blogging for Devs   \n",
       "12             Validity Inc   \n",
       "13       Target Corporation   \n",
       "14            BetaRover Inc   \n",
       "15                  Twitter   \n",
       "16                      BBC   \n",
       "17         Walker & Company   \n",
       "18                   Kroger   \n",
       "19                 Cimpress   \n",
       "20             BrowserStack   \n",
       "21                  Samsara   \n",
       "22                   Shuttl   \n",
       "23                  Skcript   \n",
       "24             Mediacurrent   \n",
       "\n",
       "                                                Quote       Date  \\\n",
       "0   “I want to set up managers to succeed, no matt... 2021-08-16   \n",
       "1   “I very well understand where my interests lie... 2021-07-19   \n",
       "2   “Your focus (and challenges) grows from your d... 2021-07-05   \n",
       "3   “If I can provide enough direction to allow pe... 2021-06-21   \n",
       "4   “The switch to management can be highly reward... 2021-05-10   \n",
       "5   “Realizing that life as a manager will have it... 2021-04-26   \n",
       "6   “Sometimes it's better not to know the details... 2021-04-12   \n",
       "7   “I think leadership and management are roles t... 2021-03-29   \n",
       "8   “Some sound advice I received is that if your ... 2021-03-15   \n",
       "9   “If you get the job, or are new to the role, t... 2021-03-01   \n",
       "10  “So many wait to be given permission to lead, ... 2021-02-15   \n",
       "11  “You have to have the big picture in mind. And... 2021-02-01   \n",
       "12  “I was definitely drinking from the firehose, ... 2021-01-18   \n",
       "13  “Understanding people, their personalities, le... 2020-11-30   \n",
       "14  “I’ve said a few times to the team that they a... 2020-11-16   \n",
       "15  “It is quite important that every engineer set... 2020-11-02   \n",
       "16  “You have to realise that your value comes fro... 2020-10-19   \n",
       "17  “What made you successful in your current role... 2020-10-05   \n",
       "18  “I have learned to track my impact in other wa... 2020-09-21   \n",
       "19  “The transition to becoming an engineering lea... 2020-09-07   \n",
       "20  “What I enjoy the most is solving problems. I ... 2020-08-24   \n",
       "21  “When I’m able to see engineers on my teams ta... 2020-08-10   \n",
       "22  “Always think about the larger picture and not... 2020-07-27   \n",
       "23  “People management is not like giving instruct... 2020-07-13   \n",
       "24  “You can lead in your current role. No need to... 2020-06-29   \n",
       "\n",
       "                                                 Tags  \n",
       "0                            [#coaching, #consulting]  \n",
       "1   [#coaching, #frontend, #full-stack, #public-sa...  \n",
       "2   [#backend, #coaching, #information-systems, #web]  \n",
       "3                         [#full-stack, #health-tech]  \n",
       "4   [#consulting, #digital-marketing, #e-commerce,...  \n",
       "5   [#autonomous-driving, #devops, #ios, #self-tau...  \n",
       "6           [#full-stack, #linux, #self-taught, #web]  \n",
       "7   [#coaching, #devops, #self-taught, #startup, #...  \n",
       "8       [#cybersecurity, #entrepreneurship, #startup]  \n",
       "9   [#coaching, #enterprise, #hardware, #systems-p...  \n",
       "10    [#consumer-research, #fintech, #frontend, #web]  \n",
       "11                [#fintech, #frontend, #self-taught]  \n",
       "12                       [#cloud, #self-taught, #web]  \n",
       "13  [#android, #cloud, #distributed-systems, #mobile]  \n",
       "14  [#cloud, #enterprise, #infrastructure, #self-t...  \n",
       "15                             [#adtech, #mentorship]  \n",
       "16                 [#game-development, #remote, #web]  \n",
       "17                 [#distributed-teams, #health-tech]  \n",
       "18                 [#e-commerce, #frontend, #startup]  \n",
       "19       [#data-platform, #distributed-teams, #media]  \n",
       "20  [#infrastructure, #mobile, #network-engineerin...  \n",
       "21  [#embedded-systems, #infrastructure, #internet...  \n",
       "22                                   [#product, #web]  \n",
       "23          [#elixir, #product, #ruby-on-rails, #web]  \n",
       "24                        [#mentorship, #open-source]  "
      ]
     },
     "execution_count": 20,
     "metadata": {},
     "output_type": "execute_result"
    }
   ],
   "source": [
    "manager = pd.concat(tables, axis = 0, ignore_index = True)\n",
    "manager"
   ]
  },
  {
   "cell_type": "markdown",
   "id": "97450942",
   "metadata": {},
   "source": [
    "- Note:  As employee no. 1 is not working at any company Nan is shown which means that that cell is empty."
   ]
  },
  {
   "cell_type": "code",
   "execution_count": 23,
   "id": "dc6e8343",
   "metadata": {},
   "outputs": [],
   "source": [
    "manager.to_csv(r'C:\\Users\\Admin\\Desktop\\Assignment\\Data Scraping\\Assignmetn solution\\Question 3/dovtomanaget Site DataScraping.csv')"
   ]
  }
 ],
 "metadata": {
  "kernelspec": {
   "display_name": "Python 3",
   "language": "python",
   "name": "python3"
  },
  "language_info": {
   "codemirror_mode": {
    "name": "ipython",
    "version": 3
   },
   "file_extension": ".py",
   "mimetype": "text/x-python",
   "name": "python",
   "nbconvert_exporter": "python",
   "pygments_lexer": "ipython3",
   "version": "3.8.8"
  }
 },
 "nbformat": 4,
 "nbformat_minor": 5
}
